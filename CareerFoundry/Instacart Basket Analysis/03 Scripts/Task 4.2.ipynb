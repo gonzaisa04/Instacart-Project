{
 "cells": [
  {
   "cell_type": "markdown",
   "id": "5bbd84c8",
   "metadata": {},
   "source": [
    "# Importing Libraries"
   ]
  },
  {
   "cell_type": "code",
   "execution_count": 1,
   "id": "cb00211e",
   "metadata": {},
   "outputs": [],
   "source": [
    "# Import Libraries\n",
    "import pandas as pd\n",
    "import numpy as np\n",
    "import os"
   ]
  },
  {
   "cell_type": "markdown",
   "id": "f950c092",
   "metadata": {},
   "source": [
    "# Working with Python Data Types"
   ]
  },
  {
   "cell_type": "code",
   "execution_count": 11,
   "id": "13572bde",
   "metadata": {},
   "outputs": [],
   "source": [
    "x = 25"
   ]
  },
  {
   "cell_type": "code",
   "execution_count": 12,
   "id": "f8380019",
   "metadata": {},
   "outputs": [],
   "source": [
    "y = 75"
   ]
  },
  {
   "cell_type": "code",
   "execution_count": 13,
   "id": "3f100852",
   "metadata": {},
   "outputs": [],
   "source": [
    "c = 125"
   ]
  },
  {
   "cell_type": "code",
   "execution_count": 14,
   "id": "0df72ed7",
   "metadata": {},
   "outputs": [
    {
     "data": {
      "text/plain": [
       "100"
      ]
     },
     "execution_count": 14,
     "metadata": {},
     "output_type": "execute_result"
    }
   ],
   "source": [
    "x + y"
   ]
  },
  {
   "cell_type": "code",
   "execution_count": 15,
   "id": "07cccc48",
   "metadata": {},
   "outputs": [
    {
     "data": {
      "text/plain": [
       "100"
      ]
     },
     "execution_count": 15,
     "metadata": {},
     "output_type": "execute_result"
    }
   ],
   "source": [
    "c - x"
   ]
  },
  {
   "cell_type": "code",
   "execution_count": 16,
   "id": "5b3a1b73",
   "metadata": {},
   "outputs": [
    {
     "data": {
      "text/plain": [
       "100"
      ]
     },
     "execution_count": 16,
     "metadata": {},
     "output_type": "execute_result"
    }
   ],
   "source": [
    "c -y + x + x"
   ]
  },
  {
   "cell_type": "code",
   "execution_count": 17,
   "id": "a4fe8a56",
   "metadata": {},
   "outputs": [],
   "source": [
    "q = 9.87"
   ]
  },
  {
   "cell_type": "code",
   "execution_count": 18,
   "id": "13419372",
   "metadata": {},
   "outputs": [],
   "source": [
    "w = 1.23"
   ]
  },
  {
   "cell_type": "code",
   "execution_count": 19,
   "id": "8c4877df",
   "metadata": {},
   "outputs": [
    {
     "data": {
      "text/plain": [
       "8.024390243902438"
      ]
     },
     "execution_count": 19,
     "metadata": {},
     "output_type": "execute_result"
    }
   ],
   "source": [
    "q / w"
   ]
  },
  {
   "cell_type": "code",
   "execution_count": 21,
   "id": "d68a24cf",
   "metadata": {},
   "outputs": [],
   "source": [
    "a = 'awe'"
   ]
  },
  {
   "cell_type": "code",
   "execution_count": 22,
   "id": "8486c272",
   "metadata": {},
   "outputs": [],
   "source": [
    "s = 'some'"
   ]
  },
  {
   "cell_type": "code",
   "execution_count": 23,
   "id": "ffbcd05c",
   "metadata": {},
   "outputs": [
    {
     "data": {
      "text/plain": [
       "'awesome'"
      ]
     },
     "execution_count": 23,
     "metadata": {},
     "output_type": "execute_result"
    }
   ],
   "source": [
    "a + s"
   ]
  },
  {
   "cell_type": "code",
   "execution_count": 27,
   "id": "ee78e7c7",
   "metadata": {},
   "outputs": [],
   "source": [
    "p = 'Python '"
   ]
  },
  {
   "cell_type": "code",
   "execution_count": 28,
   "id": "a5c4272d",
   "metadata": {},
   "outputs": [],
   "source": [
    "i = 'is '"
   ]
  },
  {
   "cell_type": "code",
   "execution_count": 29,
   "id": "0d695b0e",
   "metadata": {},
   "outputs": [
    {
     "data": {
      "text/plain": [
       "'Python is awesome'"
      ]
     },
     "execution_count": 29,
     "metadata": {},
     "output_type": "execute_result"
    }
   ],
   "source": [
    "p + i + a + s"
   ]
  },
  {
   "cell_type": "code",
   "execution_count": 32,
   "id": "9fe11ef1",
   "metadata": {},
   "outputs": [],
   "source": [
    "A = 'a '"
   ]
  },
  {
   "cell_type": "code",
   "execution_count": 33,
   "id": "47627af5",
   "metadata": {},
   "outputs": [],
   "source": [
    "n = 'snake'"
   ]
  },
  {
   "cell_type": "code",
   "execution_count": 34,
   "id": "41143dba",
   "metadata": {},
   "outputs": [
    {
     "data": {
      "text/plain": [
       "'a Python is a snake'"
      ]
     },
     "execution_count": 34,
     "metadata": {},
     "output_type": "execute_result"
    }
   ],
   "source": [
    "A + p + i + A + n"
   ]
  },
  {
   "cell_type": "code",
   "execution_count": 35,
   "id": "638c34eb",
   "metadata": {},
   "outputs": [
    {
     "data": {
      "text/plain": [
       "'Python Python Python Python Python Python Python Python Python Python Python Python Python Python Python Python Python Python Python Python Python Python Python Python Python Python Python Python Python Python Python Python Python Python Python Python Python Python Python Python Python Python Python Python Python Python Python Python Python Python Python Python Python Python Python Python Python Python Python Python Python Python Python Python Python Python Python Python Python Python Python Python Python Python Python Python Python Python Python Python Python Python Python Python Python Python Python Python Python Python Python Python Python Python Python Python Python Python Python Python '"
      ]
     },
     "execution_count": 35,
     "metadata": {},
     "output_type": "execute_result"
    }
   ],
   "source": [
    "p * 100"
   ]
  }
 ],
 "metadata": {
  "kernelspec": {
   "display_name": "Python 3 (ipykernel)",
   "language": "python",
   "name": "python3"
  },
  "language_info": {
   "codemirror_mode": {
    "name": "ipython",
    "version": 3
   },
   "file_extension": ".py",
   "mimetype": "text/x-python",
   "name": "python",
   "nbconvert_exporter": "python",
   "pygments_lexer": "ipython3",
   "version": "3.11.5"
  }
 },
 "nbformat": 4,
 "nbformat_minor": 5
}
