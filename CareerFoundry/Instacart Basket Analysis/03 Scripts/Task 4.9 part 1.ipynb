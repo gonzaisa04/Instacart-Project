{
 "cells": [
  {
   "cell_type": "code",
   "execution_count": null,
   "id": "b0e00351",
   "metadata": {},
   "outputs": [],
   "source": [
    "# Importing Libraries\n",
    "import pandas as pd\n",
    "import numpy as np\n",
    "import os\n",
    "import matplotlib.pyplot as plt\n",
    "import seaborn as sns\n",
    "import scipy"
   ]
  },
  {
   "cell_type": "code",
   "execution_count": null,
   "id": "0ef8754c",
   "metadata": {},
   "outputs": [],
   "source": [
    "#\"C:\\Users\\asus\\CareerFoundry\\Instacart Basket Analysis\\02 Data\\Original Data\\customers.csv\"\n",
    "path = r'C:\\Users\\asus\\CareerFoundry\\Instacart Basket Analysis'"
   ]
  },
  {
   "cell_type": "code",
   "execution_count": null,
   "id": "1158068a",
   "metadata": {},
   "outputs": [],
   "source": [
    "df_cust = pd.read_csv(os.path.join(path, '02 Data', 'Original Data', 'customers.csv'))"
   ]
  },
  {
   "cell_type": "code",
   "execution_count": null,
   "id": "9657f7b4",
   "metadata": {},
   "outputs": [],
   "source": [
    "df_cust.head()"
   ]
  },
  {
   "cell_type": "code",
   "execution_count": null,
   "id": "032902bc",
   "metadata": {},
   "outputs": [],
   "source": [
    "df_cust.shape"
   ]
  },
  {
   "cell_type": "code",
   "execution_count": null,
   "id": "9334ab94",
   "metadata": {},
   "outputs": [],
   "source": [
    "df_cust.rename(columns = {'Surnam' : 'last_name'}, inplace = True)"
   ]
  },
  {
   "cell_type": "code",
   "execution_count": null,
   "id": "3348a1e6",
   "metadata": {},
   "outputs": [],
   "source": [
    "df_cust.rename(columns = {'Gender' : 'gender'}, inplace = True)"
   ]
  },
  {
   "cell_type": "code",
   "execution_count": null,
   "id": "d8cbcfe0",
   "metadata": {},
   "outputs": [],
   "source": [
    "df_cust.rename(columns = {'STATE' : 'state'}, inplace = True)"
   ]
  },
  {
   "cell_type": "code",
   "execution_count": null,
   "id": "de43b114",
   "metadata": {},
   "outputs": [],
   "source": [
    "df_cust.rename(columns = {'Age' : 'age'}, inplace = True)"
   ]
  },
  {
   "cell_type": "code",
   "execution_count": null,
   "id": "419c3b05",
   "metadata": {},
   "outputs": [],
   "source": [
    "df_cust.rename(columns = {'n_dependants' : 'number_of_dependants'}, inplace = True)"
   ]
  },
  {
   "cell_type": "code",
   "execution_count": null,
   "id": "6a987e63",
   "metadata": {},
   "outputs": [],
   "source": [
    "df_cust.rename(columns = {'fam_status' : 'marital_status'}, inplace = True)"
   ]
  },
  {
   "cell_type": "code",
   "execution_count": null,
   "id": "7d662bbc",
   "metadata": {},
   "outputs": [],
   "source": [
    "df_cust.head()"
   ]
  },
  {
   "cell_type": "markdown",
   "id": "d3792941",
   "metadata": {},
   "source": [
    "## Data Quality and Consistentcy Checks"
   ]
  },
  {
   "cell_type": "code",
   "execution_count": null,
   "id": "91053f78",
   "metadata": {},
   "outputs": [],
   "source": [
    "for col in df_cust.columns.tolist():\n",
    "  weird = (df_cust[[col]].applymap(type) != df_cust[[col]].iloc[0].apply(type)).any(axis = 1)\n",
    "  if len (df_cust[weird]) > 0:\n",
    "    print (col)"
   ]
  },
  {
   "cell_type": "code",
   "execution_count": null,
   "id": "dc4cd9d8",
   "metadata": {},
   "outputs": [],
   "source": [
    "df_cust['First Name'] = df_cust['First Name'].astype('str')"
   ]
  },
  {
   "cell_type": "code",
   "execution_count": null,
   "id": "1f23db3c",
   "metadata": {},
   "outputs": [],
   "source": [
    "df_cust['First Name'].dtype"
   ]
  },
  {
   "cell_type": "code",
   "execution_count": null,
   "id": "5a787517",
   "metadata": {},
   "outputs": [],
   "source": [
    "df_cust.isnull().sum()"
   ]
  },
  {
   "cell_type": "code",
   "execution_count": null,
   "id": "012c0229",
   "metadata": {},
   "outputs": [],
   "source": [
    "df_cust_dups = df_cust[df_cust.duplicated()]"
   ]
  },
  {
   "cell_type": "code",
   "execution_count": null,
   "id": "e1ee252e",
   "metadata": {},
   "outputs": [],
   "source": [
    "df_cust_dups"
   ]
  },
  {
   "cell_type": "code",
   "execution_count": null,
   "id": "3192ad50",
   "metadata": {},
   "outputs": [],
   "source": [
    "df_cust.rename(columns = {'First Name' : 'first_name'}, inplace = True)"
   ]
  },
  {
   "cell_type": "code",
   "execution_count": null,
   "id": "a675161b",
   "metadata": {},
   "outputs": [],
   "source": [
    "#df_cust.to_csv(os.path.join(path, '02 Data', 'Prepared Data', 'customers_cleaned.csv'))\n",
    "df_cust.to_csv(os.path.join(path, '02 Data', 'Prepared Data', 'customers_cleaned.csv'))"
   ]
  },
  {
   "cell_type": "markdown",
   "id": "de98985e",
   "metadata": {},
   "source": [
    "## Mergeing customer to orders/products"
   ]
  },
  {
   "cell_type": "code",
   "execution_count": null,
   "id": "0c08e768",
   "metadata": {},
   "outputs": [],
   "source": [
    "df_cust= pd.read_csv(os.path.join(path, '02 Data', 'Prepared Data', 'customers_cleaned.csv'))"
   ]
  },
  {
   "cell_type": "code",
   "execution_count": null,
   "id": "f550f8d6",
   "metadata": {},
   "outputs": [],
   "source": [
    "df_cust.head()"
   ]
  },
  {
   "cell_type": "code",
   "execution_count": null,
   "id": "f47841d8",
   "metadata": {},
   "outputs": [],
   "source": [
    "ords_prods_merge = pd.read_pickle(os.path.join(path,'02 Data', 'Prepared Data', 'orders_products_merged.pkl'))"
   ]
  },
  {
   "cell_type": "code",
   "execution_count": null,
   "id": "f014dc87",
   "metadata": {},
   "outputs": [],
   "source": [
    "ords_prods_merge.head()"
   ]
  },
  {
   "cell_type": "code",
   "execution_count": null,
   "id": "be60ba00",
   "metadata": {},
   "outputs": [],
   "source": [
    "ords_prods_merge.shape"
   ]
  },
  {
   "cell_type": "code",
   "execution_count": null,
   "id": "f4a87f39",
   "metadata": {},
   "outputs": [],
   "source": [
    "df_cust['user_id'].dtype"
   ]
  },
  {
   "cell_type": "code",
   "execution_count": null,
   "id": "fe4a6266",
   "metadata": {},
   "outputs": [],
   "source": [
    "ords_prods_merge['user_id'].dtype"
   ]
  },
  {
   "cell_type": "code",
   "execution_count": null,
   "id": "7325352e",
   "metadata": {},
   "outputs": [],
   "source": [
    "ords_prods_merged_cust = ords_prods_merge.merge(df_cust, on = ['user_id'])"
   ]
  },
  {
   "cell_type": "code",
   "execution_count": null,
   "id": "79e1278c",
   "metadata": {},
   "outputs": [],
   "source": [
    "ords_prods_merged_cust.head()"
   ]
  },
  {
   "cell_type": "code",
   "execution_count": null,
   "id": "5592cf4a",
   "metadata": {},
   "outputs": [],
   "source": [
    "#\"C:\\Users\\asus\\CareerFoundry\\Instacart Basket Analysis\\02 Data\\Prepared Data\\orders_products_merged.pkl\"\n",
    "ords_prods_merged_cust.to_pickle(os.path.join(path, '02 Data', 'Prepared Data', 'orders_products_customer_merged.pkl'))"
   ]
  },
  {
   "cell_type": "code",
   "execution_count": null,
   "id": "a6560fef",
   "metadata": {},
   "outputs": [],
   "source": [
    "ords_prods_merge = pd.read_pickle(os.path.join(path,'02 Data', 'Prepared Data', 'orders_products_customer_merged.pkl'))"
   ]
  },
  {
   "cell_type": "code",
   "execution_count": null,
   "id": "88d5089f",
   "metadata": {},
   "outputs": [],
   "source": [
    "ords_prods_merge.head()"
   ]
  },
  {
   "cell_type": "code",
   "execution_count": null,
   "id": "42b609c3",
   "metadata": {},
   "outputs": [],
   "source": []
  }
 ],
 "metadata": {
  "kernelspec": {
   "display_name": "Python 3 (ipykernel)",
   "language": "python",
   "name": "python3"
  },
  "language_info": {
   "codemirror_mode": {
    "name": "ipython",
    "version": 3
   },
   "file_extension": ".py",
   "mimetype": "text/x-python",
   "name": "python",
   "nbconvert_exporter": "python",
   "pygments_lexer": "ipython3",
   "version": "3.11.5"
  }
 },
 "nbformat": 4,
 "nbformat_minor": 5
}
